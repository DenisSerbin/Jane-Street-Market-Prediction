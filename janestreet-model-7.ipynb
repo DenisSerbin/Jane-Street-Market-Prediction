{
 "cells": [
  {
   "cell_type": "code",
   "execution_count": 1,
   "metadata": {
    "_cell_guid": "b1076dfc-b9ad-4769-8c92-a6c4dae69d19",
    "_uuid": "8f2839f25d086af736a60e9eeb907d3b93b6e0e5",
    "execution": {
     "iopub.execute_input": "2021-02-22T04:27:46.602888Z",
     "iopub.status.busy": "2021-02-22T04:27:46.602218Z",
     "iopub.status.idle": "2021-02-22T04:27:46.637615Z",
     "shell.execute_reply": "2021-02-22T04:27:46.636708Z"
    },
    "papermill": {
     "duration": 0.050298,
     "end_time": "2021-02-22T04:27:46.637812",
     "exception": false,
     "start_time": "2021-02-22T04:27:46.587514",
     "status": "completed"
    },
    "tags": []
   },
   "outputs": [
    {
     "name": "stdout",
     "output_type": "stream",
     "text": [
      "/kaggle/input/modeljan26/ExpModel_4.hdf5\n",
      "/kaggle/input/modeljan25/ExpModel_3.hdf5\n",
      "/kaggle/input/jane-street-market-prediction/example_sample_submission.csv\n",
      "/kaggle/input/jane-street-market-prediction/features.csv\n",
      "/kaggle/input/jane-street-market-prediction/example_test.csv\n",
      "/kaggle/input/jane-street-market-prediction/train.csv\n",
      "/kaggle/input/jane-street-market-prediction/janestreet/competition.cpython-37m-x86_64-linux-gnu.so\n",
      "/kaggle/input/jane-street-market-prediction/janestreet/__init__.py\n",
      "/kaggle/input/modelfeb20/ExpModel_5.hdf5\n"
     ]
    }
   ],
   "source": [
    "# This Python 3 environment comes with many helpful analytics libraries installed\n",
    "# It is defined by the kaggle/python Docker image: https://github.com/kaggle/docker-python\n",
    "# For example, here's several helpful packages to load\n",
    "\n",
    "import numpy as np # linear algebra\n",
    "import pandas as pd # data processing, CSV file I/O (e.g. pd.read_csv)\n",
    "\n",
    "# Input data files are available in the read-only \"../input/\" directory\n",
    "# For example, running this (by clicking run or pressing Shift+Enter) will list all files under the input directory\n",
    "\n",
    "import os\n",
    "for dirname, _, filenames in os.walk('/kaggle/input'):\n",
    "    for filename in filenames:\n",
    "        print(os.path.join(dirname, filename))\n",
    "\n",
    "# You can write up to 20GB to the current directory (/kaggle/working/) that gets preserved as output when you create a version using \"Save & Run All\" \n",
    "# You can also write temporary files to /kaggle/temp/, but they won't be saved outside of the current session"
   ]
  },
  {
   "cell_type": "code",
   "execution_count": 2,
   "metadata": {
    "execution": {
     "iopub.execute_input": "2021-02-22T04:27:46.665358Z",
     "iopub.status.busy": "2021-02-22T04:27:46.664617Z",
     "iopub.status.idle": "2021-02-22T04:27:53.085790Z",
     "shell.execute_reply": "2021-02-22T04:27:53.084685Z"
    },
    "papermill": {
     "duration": 6.437186,
     "end_time": "2021-02-22T04:27:53.085946",
     "exception": false,
     "start_time": "2021-02-22T04:27:46.648760",
     "status": "completed"
    },
    "tags": []
   },
   "outputs": [
    {
     "data": {
      "text/html": [
       "<style type='text/css'>\n",
       ".datatable table.frame { margin-bottom: 0; }\n",
       ".datatable table.frame thead { border-bottom: none; }\n",
       ".datatable table.frame tr.coltypes td {  color: #FFFFFF;  line-height: 6px;  padding: 0 0.5em;}\n",
       ".datatable .bool    { background: #DDDD99; }\n",
       ".datatable .object  { background: #565656; }\n",
       ".datatable .int     { background: #5D9E5D; }\n",
       ".datatable .float   { background: #4040CC; }\n",
       ".datatable .str     { background: #CC4040; }\n",
       ".datatable .row_index {  background: var(--jp-border-color3);  border-right: 1px solid var(--jp-border-color0);  color: var(--jp-ui-font-color3);  font-size: 9px;}\n",
       ".datatable .frame tr.coltypes .row_index {  background: var(--jp-border-color0);}\n",
       ".datatable th:nth-child(2) { padding-left: 12px; }\n",
       ".datatable .hellipsis {  color: var(--jp-cell-editor-border-color);}\n",
       ".datatable .vellipsis {  background: var(--jp-layout-color0);  color: var(--jp-cell-editor-border-color);}\n",
       ".datatable .na {  color: var(--jp-cell-editor-border-color);  font-size: 80%;}\n",
       ".datatable .footer { font-size: 9px; }\n",
       ".datatable .frame_dimensions {  background: var(--jp-border-color3);  border-top: 1px solid var(--jp-border-color0);  color: var(--jp-ui-font-color3);  display: inline-block;  opacity: 0.6;  padding: 1px 10px 1px 5px;}\n",
       "</style>\n"
      ],
      "text/plain": [
       "<IPython.core.display.HTML object>"
      ]
     },
     "metadata": {},
     "output_type": "display_data"
    }
   ],
   "source": [
    "#import warnings\n",
    "#warnings.filterwarnings('ignore')\n",
    "\n",
    "import datatable as dt\n",
    "import os, gc\n",
    "# import cudf\n",
    "import pandas as pd\n",
    "import numpy as np\n",
    "# import cupy as cp\n",
    "# import janestreet\n",
    "#import xgboost as xgb\n",
    "#from hyperopt import hp, fmin, tpe, Trials\n",
    "#from hyperopt.pyll.base import scope\n",
    "from sklearn.metrics import mean_squared_error, roc_auc_score, roc_curve\n",
    "#from sklearn.model_selection import GroupKFold\n",
    "#from sklearn.preprocessing import StandardScaler\n",
    "#from sklearn.pipeline import Pipeline\n",
    "#import matplotlib.pyplot as plt\n",
    "from tqdm.notebook import tqdm\n",
    "#from joblib import dump, load\n",
    "\n",
    "import tensorflow as tf\n",
    "#tf.random.set_seed(42)\n",
    "import tensorflow.keras.backend as K\n",
    "import tensorflow.keras.layers as layers"
   ]
  },
  {
   "cell_type": "code",
   "execution_count": 3,
   "metadata": {
    "execution": {
     "iopub.execute_input": "2021-02-22T04:27:53.118705Z",
     "iopub.status.busy": "2021-02-22T04:27:53.117994Z",
     "iopub.status.idle": "2021-02-22T04:30:05.248622Z",
     "shell.execute_reply": "2021-02-22T04:30:05.247675Z"
    },
    "papermill": {
     "duration": 132.153686,
     "end_time": "2021-02-22T04:30:05.248935",
     "exception": false,
     "start_time": "2021-02-22T04:27:53.095249",
     "status": "completed"
    },
    "tags": []
   },
   "outputs": [
    {
     "name": "stdout",
     "output_type": "stream",
     "text": [
      "Loading...\n",
      "(2300000, 138)\n",
      "Filling...\n",
      "Saving mean...\n",
      "Finish.\n"
     ]
    }
   ],
   "source": [
    "SEED = 1977\n",
    "tf.random.set_seed(SEED)\n",
    "np.random.seed(SEED)\n",
    "\n",
    "print('Loading...')\n",
    "full_train = pd.read_csv('/kaggle/input/jane-street-market-prediction/train.csv')\n",
    "\n",
    "full_train_size = full_train.shape[0]\n",
    "train_size = 2300000\n",
    "#test_set_size = full_train_size - train_size\n",
    "\n",
    "train = full_train.head(train_size)\n",
    "print(train.shape)\n",
    "\n",
    "#test_set = full_train.tail(test_set_size)\n",
    "#print(test_set.shape)\n",
    "\n",
    "features = [c for c in train.columns if 'feature' in c]\n",
    "resp_cols = ['resp_1', 'resp_2', 'resp_3', 'resp_4', 'resp']\n",
    "\n",
    "print('Filling...')\n",
    "#Compute means based on the full_train set \n",
    "f_mean = full_train[features[1:]].mean()\n",
    "#train = train.query('weight > 0').reset_index(drop = True)\n",
    "full_train[features[1:]] = full_train[features[1:]].fillna(f_mean)\n",
    "#train['action'] = (train['resp'] > 0).astype('int')\n",
    "\n",
    "print('Saving mean...')\n",
    "f_mean = f_mean.values\n",
    "np.save('f_mean.npy', f_mean)\n",
    "\n",
    "print('Finish.')"
   ]
  },
  {
   "cell_type": "code",
   "execution_count": 4,
   "metadata": {
    "execution": {
     "iopub.execute_input": "2021-02-22T04:30:05.300830Z",
     "iopub.status.busy": "2021-02-22T04:30:05.299946Z",
     "iopub.status.idle": "2021-02-22T04:30:05.302968Z",
     "shell.execute_reply": "2021-02-22T04:30:05.301961Z"
    },
    "papermill": {
     "duration": 0.037518,
     "end_time": "2021-02-22T04:30:05.303107",
     "exception": false,
     "start_time": "2021-02-22T04:30:05.265589",
     "status": "completed"
    },
    "tags": []
   },
   "outputs": [],
   "source": [
    "def create_mlp(num_columns, num_labels, hidden_units, dropout_rates, learning_rate):\n",
    "    \n",
    "    inp = tf.keras.layers.Input(shape = (num_columns, ))\n",
    "    x = tf.keras.layers.BatchNormalization()(inp)\n",
    "    x = tf.keras.layers.Dropout(dropout_rates[0])(x)\n",
    "    for i in range(len(hidden_units)): \n",
    "        x = tf.keras.layers.Dense(hidden_units[i])(x)\n",
    "        x = tf.keras.layers.BatchNormalization()(x)\n",
    "        x = tf.keras.layers.Activation(tf.keras.activations.swish)(x)\n",
    "        x = tf.keras.layers.Dropout(dropout_rates[i+1])(x)    \n",
    "        \n",
    "    out = tf.keras.layers.Dense(num_labels)(x)\n",
    "    #out = tf.keras.layers.Activation('linear')(x)\n",
    "    \n",
    "    model = tf.keras.models.Model(inputs = inp, outputs = out)\n",
    "    model.compile(optimizer = tf.keras.optimizers.Adam(learning_rate = learning_rate),\n",
    "                  loss = tf.keras.losses.LogCosh(name='log_cosh'), \n",
    "                  metrics = tf.keras.metrics.MeanAbsolutePercentageError(name='mean_absolute_percentage_error', dtype=None\n",
    "), \n",
    "                 )\n",
    "    \n",
    "    return model"
   ]
  },
  {
   "cell_type": "code",
   "execution_count": 5,
   "metadata": {
    "execution": {
     "iopub.execute_input": "2021-02-22T04:30:05.341708Z",
     "iopub.status.busy": "2021-02-22T04:30:05.340974Z",
     "iopub.status.idle": "2021-02-22T04:30:05.345350Z",
     "shell.execute_reply": "2021-02-22T04:30:05.344801Z"
    },
    "papermill": {
     "duration": 0.026636,
     "end_time": "2021-02-22T04:30:05.345472",
     "exception": false,
     "start_time": "2021-02-22T04:30:05.318836",
     "status": "completed"
    },
    "tags": []
   },
   "outputs": [],
   "source": [
    "batch_size = 11500\n",
    "hidden_units = [80, 90, 110, 90, 80, 40]\n",
    "dropout_rates = [0.2, 0.25, 0.27, 0.25, 0.2, 0.15, 0.1]\n",
    "learning_rate = 1e-3\n",
    "\n",
    "#X_tr = train.loc[:, train.columns.str.contains('feature')]\n",
    "#y_tr = train.loc[:, train.columns.str.contains('resp')]\n",
    "\n",
    "#ckp_path = f'../input/modeljan25/ExpModel_4.hdf5'\n",
    "    \n",
    "#model = create_mlp(X_tr.shape[1], 5, hidden_units, dropout_rates, learning_rate)\n",
    "#model.summary()\n",
    "    \n",
    "#model.fit(X_tr, y_tr, epochs = 200, batch_size = batch_size, callbacks = None, verbose = 1)\n",
    "\n",
    "#model.save_weights(ckp_path)\n",
    "\n",
    "#K.clear_session()\n",
    "#del model\n",
    "#rubbish = gc.collect()"
   ]
  },
  {
   "cell_type": "code",
   "execution_count": 6,
   "metadata": {
    "execution": {
     "iopub.execute_input": "2021-02-22T04:30:05.374153Z",
     "iopub.status.busy": "2021-02-22T04:30:05.373311Z",
     "iopub.status.idle": "2021-02-22T04:30:05.379332Z",
     "shell.execute_reply": "2021-02-22T04:30:05.378593Z"
    },
    "papermill": {
     "duration": 0.023302,
     "end_time": "2021-02-22T04:30:05.379462",
     "exception": false,
     "start_time": "2021-02-22T04:30:05.356160",
     "status": "completed"
    },
    "tags": []
   },
   "outputs": [],
   "source": [
    "f_mean = np.load('./f_mean.npy')"
   ]
  },
  {
   "cell_type": "code",
   "execution_count": 7,
   "metadata": {
    "execution": {
     "iopub.execute_input": "2021-02-22T04:30:05.415755Z",
     "iopub.status.busy": "2021-02-22T04:30:05.415072Z",
     "iopub.status.idle": "2021-02-22T04:30:05.439384Z",
     "shell.execute_reply": "2021-02-22T04:30:05.438682Z"
    },
    "papermill": {
     "duration": 0.044771,
     "end_time": "2021-02-22T04:30:05.439507",
     "exception": false,
     "start_time": "2021-02-22T04:30:05.394736",
     "status": "completed"
    },
    "tags": []
   },
   "outputs": [],
   "source": [
    "import janestreet\n",
    "env = janestreet.make_env()\n",
    "iter_test = env.iter_test()"
   ]
  },
  {
   "cell_type": "code",
   "execution_count": 8,
   "metadata": {
    "execution": {
     "iopub.execute_input": "2021-02-22T04:30:05.465218Z",
     "iopub.status.busy": "2021-02-22T04:30:05.464259Z",
     "iopub.status.idle": "2021-02-22T04:30:06.049209Z",
     "shell.execute_reply": "2021-02-22T04:30:06.049741Z"
    },
    "papermill": {
     "duration": 0.599312,
     "end_time": "2021-02-22T04:30:06.049900",
     "exception": false,
     "start_time": "2021-02-22T04:30:05.450588",
     "status": "completed"
    },
    "tags": []
   },
   "outputs": [],
   "source": [
    "model = create_mlp(130, 5, hidden_units, dropout_rates, learning_rate)\n",
    "model.load_weights('../input/modelfeb20/ExpModel_5.hdf5')"
   ]
  },
  {
   "cell_type": "code",
   "execution_count": 9,
   "metadata": {
    "execution": {
     "iopub.execute_input": "2021-02-22T04:30:06.081400Z",
     "iopub.status.busy": "2021-02-22T04:30:06.080699Z",
     "iopub.status.idle": "2021-02-22T04:34:39.257828Z",
     "shell.execute_reply": "2021-02-22T04:34:39.256921Z"
    },
    "papermill": {
     "duration": 273.196963,
     "end_time": "2021-02-22T04:34:39.257988",
     "exception": false,
     "start_time": "2021-02-22T04:30:06.061025",
     "status": "completed"
    },
    "tags": []
   },
   "outputs": [
    {
     "data": {
      "application/vnd.jupyter.widget-view+json": {
       "model_id": "d7589be7c656487e914777a7d6a4be4c",
       "version_major": 2,
       "version_minor": 0
      },
      "text/plain": [
       "HBox(children=(FloatProgress(value=1.0, bar_style='info', max=1.0), HTML(value='')))"
      ]
     },
     "metadata": {},
     "output_type": "display_data"
    },
    {
     "name": "stdout",
     "output_type": "stream",
     "text": [
      "\n"
     ]
    }
   ],
   "source": [
    "for (test_df, pred_df) in tqdm(iter_test):\n",
    "    if test_df['weight'].item() > 0:\n",
    "        x_tt = test_df.loc[:, features].values\n",
    "        if np.isnan(x_tt[:, 1:].sum()):\n",
    "            x_tt[:, 1:] = np.nan_to_num(x_tt[:, 1:]) + np.isnan(x_tt[:, 1:]) * f_mean\n",
    "        pred = model(x_tt, training = False).numpy().item(4)\n",
    "        pred_df.action = np.where(pred > 0.001, 1, 0).astype(int)\n",
    "    else:\n",
    "        pred_df.action = 0\n",
    "    env.predict(pred_df)"
   ]
  },
  {
   "cell_type": "code",
   "execution_count": null,
   "metadata": {
    "papermill": {
     "duration": 0.017428,
     "end_time": "2021-02-22T04:34:39.293904",
     "exception": false,
     "start_time": "2021-02-22T04:34:39.276476",
     "status": "completed"
    },
    "tags": []
   },
   "outputs": [],
   "source": []
  }
 ],
 "metadata": {
  "kernelspec": {
   "display_name": "Python 3",
   "language": "python",
   "name": "python3"
  },
  "language_info": {
   "codemirror_mode": {
    "name": "ipython",
    "version": 3
   },
   "file_extension": ".py",
   "mimetype": "text/x-python",
   "name": "python",
   "nbconvert_exporter": "python",
   "pygments_lexer": "ipython3",
   "version": "3.7.6"
  },
  "papermill": {
   "duration": 417.498805,
   "end_time": "2021-02-22T04:34:39.524604",
   "environment_variables": {},
   "exception": null,
   "input_path": "__notebook__.ipynb",
   "output_path": "__notebook__.ipynb",
   "parameters": {},
   "start_time": "2021-02-22T04:27:42.025799",
   "version": "2.1.0"
  },
  "widgets": {
   "application/vnd.jupyter.widget-state+json": {
    "state": {
     "085e8fbe100b464db457804cafe6bd99": {
      "model_module": "@jupyter-widgets/controls",
      "model_module_version": "1.5.0",
      "model_name": "DescriptionStyleModel",
      "state": {
       "_model_module": "@jupyter-widgets/controls",
       "_model_module_version": "1.5.0",
       "_model_name": "DescriptionStyleModel",
       "_view_count": null,
       "_view_module": "@jupyter-widgets/base",
       "_view_module_version": "1.2.0",
       "_view_name": "StyleView",
       "description_width": ""
      }
     },
     "25e1a14adcc84b42a0a123de64e42819": {
      "model_module": "@jupyter-widgets/base",
      "model_module_version": "1.2.0",
      "model_name": "LayoutModel",
      "state": {
       "_model_module": "@jupyter-widgets/base",
       "_model_module_version": "1.2.0",
       "_model_name": "LayoutModel",
       "_view_count": null,
       "_view_module": "@jupyter-widgets/base",
       "_view_module_version": "1.2.0",
       "_view_name": "LayoutView",
       "align_content": null,
       "align_items": null,
       "align_self": null,
       "border": null,
       "bottom": null,
       "display": null,
       "flex": null,
       "flex_flow": null,
       "grid_area": null,
       "grid_auto_columns": null,
       "grid_auto_flow": null,
       "grid_auto_rows": null,
       "grid_column": null,
       "grid_gap": null,
       "grid_row": null,
       "grid_template_areas": null,
       "grid_template_columns": null,
       "grid_template_rows": null,
       "height": null,
       "justify_content": null,
       "justify_items": null,
       "left": null,
       "margin": null,
       "max_height": null,
       "max_width": null,
       "min_height": null,
       "min_width": null,
       "object_fit": null,
       "object_position": null,
       "order": null,
       "overflow": null,
       "overflow_x": null,
       "overflow_y": null,
       "padding": null,
       "right": null,
       "top": null,
       "visibility": null,
       "width": null
      }
     },
     "4b36a7943b624fc38b5bfed1d71c6c0d": {
      "model_module": "@jupyter-widgets/controls",
      "model_module_version": "1.5.0",
      "model_name": "HTMLModel",
      "state": {
       "_dom_classes": [],
       "_model_module": "@jupyter-widgets/controls",
       "_model_module_version": "1.5.0",
       "_model_name": "HTMLModel",
       "_view_count": null,
       "_view_module": "@jupyter-widgets/controls",
       "_view_module_version": "1.5.0",
       "_view_name": "HTMLView",
       "description": "",
       "description_tooltip": null,
       "layout": "IPY_MODEL_6aded7558b8a4667885ad19cc35259d5",
       "placeholder": "​",
       "style": "IPY_MODEL_085e8fbe100b464db457804cafe6bd99",
       "value": " 15219/? [04:33&lt;00:00, 55.71it/s]"
      }
     },
     "6aded7558b8a4667885ad19cc35259d5": {
      "model_module": "@jupyter-widgets/base",
      "model_module_version": "1.2.0",
      "model_name": "LayoutModel",
      "state": {
       "_model_module": "@jupyter-widgets/base",
       "_model_module_version": "1.2.0",
       "_model_name": "LayoutModel",
       "_view_count": null,
       "_view_module": "@jupyter-widgets/base",
       "_view_module_version": "1.2.0",
       "_view_name": "LayoutView",
       "align_content": null,
       "align_items": null,
       "align_self": null,
       "border": null,
       "bottom": null,
       "display": null,
       "flex": null,
       "flex_flow": null,
       "grid_area": null,
       "grid_auto_columns": null,
       "grid_auto_flow": null,
       "grid_auto_rows": null,
       "grid_column": null,
       "grid_gap": null,
       "grid_row": null,
       "grid_template_areas": null,
       "grid_template_columns": null,
       "grid_template_rows": null,
       "height": null,
       "justify_content": null,
       "justify_items": null,
       "left": null,
       "margin": null,
       "max_height": null,
       "max_width": null,
       "min_height": null,
       "min_width": null,
       "object_fit": null,
       "object_position": null,
       "order": null,
       "overflow": null,
       "overflow_x": null,
       "overflow_y": null,
       "padding": null,
       "right": null,
       "top": null,
       "visibility": null,
       "width": null
      }
     },
     "8ecf7eeac9e644be86cb7fcdb2a65447": {
      "model_module": "@jupyter-widgets/controls",
      "model_module_version": "1.5.0",
      "model_name": "FloatProgressModel",
      "state": {
       "_dom_classes": [],
       "_model_module": "@jupyter-widgets/controls",
       "_model_module_version": "1.5.0",
       "_model_name": "FloatProgressModel",
       "_view_count": null,
       "_view_module": "@jupyter-widgets/controls",
       "_view_module_version": "1.5.0",
       "_view_name": "ProgressView",
       "bar_style": "success",
       "description": "",
       "description_tooltip": null,
       "layout": "IPY_MODEL_25e1a14adcc84b42a0a123de64e42819",
       "max": 1.0,
       "min": 0.0,
       "orientation": "horizontal",
       "style": "IPY_MODEL_be7413b049304c25a45f25f33876c6a2",
       "value": 1.0
      }
     },
     "be7413b049304c25a45f25f33876c6a2": {
      "model_module": "@jupyter-widgets/controls",
      "model_module_version": "1.5.0",
      "model_name": "ProgressStyleModel",
      "state": {
       "_model_module": "@jupyter-widgets/controls",
       "_model_module_version": "1.5.0",
       "_model_name": "ProgressStyleModel",
       "_view_count": null,
       "_view_module": "@jupyter-widgets/base",
       "_view_module_version": "1.2.0",
       "_view_name": "StyleView",
       "bar_color": null,
       "description_width": "initial"
      }
     },
     "d7589be7c656487e914777a7d6a4be4c": {
      "model_module": "@jupyter-widgets/controls",
      "model_module_version": "1.5.0",
      "model_name": "HBoxModel",
      "state": {
       "_dom_classes": [],
       "_model_module": "@jupyter-widgets/controls",
       "_model_module_version": "1.5.0",
       "_model_name": "HBoxModel",
       "_view_count": null,
       "_view_module": "@jupyter-widgets/controls",
       "_view_module_version": "1.5.0",
       "_view_name": "HBoxView",
       "box_style": "",
       "children": [
        "IPY_MODEL_8ecf7eeac9e644be86cb7fcdb2a65447",
        "IPY_MODEL_4b36a7943b624fc38b5bfed1d71c6c0d"
       ],
       "layout": "IPY_MODEL_ecd9d683494b4828bd3eab0f8567805a"
      }
     },
     "ecd9d683494b4828bd3eab0f8567805a": {
      "model_module": "@jupyter-widgets/base",
      "model_module_version": "1.2.0",
      "model_name": "LayoutModel",
      "state": {
       "_model_module": "@jupyter-widgets/base",
       "_model_module_version": "1.2.0",
       "_model_name": "LayoutModel",
       "_view_count": null,
       "_view_module": "@jupyter-widgets/base",
       "_view_module_version": "1.2.0",
       "_view_name": "LayoutView",
       "align_content": null,
       "align_items": null,
       "align_self": null,
       "border": null,
       "bottom": null,
       "display": null,
       "flex": null,
       "flex_flow": null,
       "grid_area": null,
       "grid_auto_columns": null,
       "grid_auto_flow": null,
       "grid_auto_rows": null,
       "grid_column": null,
       "grid_gap": null,
       "grid_row": null,
       "grid_template_areas": null,
       "grid_template_columns": null,
       "grid_template_rows": null,
       "height": null,
       "justify_content": null,
       "justify_items": null,
       "left": null,
       "margin": null,
       "max_height": null,
       "max_width": null,
       "min_height": null,
       "min_width": null,
       "object_fit": null,
       "object_position": null,
       "order": null,
       "overflow": null,
       "overflow_x": null,
       "overflow_y": null,
       "padding": null,
       "right": null,
       "top": null,
       "visibility": null,
       "width": null
      }
     }
    },
    "version_major": 2,
    "version_minor": 0
   }
  }
 },
 "nbformat": 4,
 "nbformat_minor": 4
}
